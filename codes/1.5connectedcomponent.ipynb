{
 "cells": [
  {
   "cell_type": "code",
   "execution_count": 1,
   "id": "e6fb78d2",
   "metadata": {},
   "outputs": [],
   "source": [
    "import networkx"
   ]
  },
  {
   "cell_type": "markdown",
   "id": "f4d3ad5b",
   "metadata": {},
   "source": [
    "the default index of set will be different everytime run the nx.connected_components"
   ]
  },
  {
   "cell_type": "code",
   "execution_count": 2,
   "id": "4fcba0da",
   "metadata": {},
   "outputs": [],
   "source": [
    "import json\n",
    "import csv\n",
    "import pandas as pd\n",
    "import os\n",
    "import numpy as np\n",
    "import matplotlib.pyplot as plt\n",
    "import seaborn as sns\n",
    "import math"
   ]
  },
  {
   "cell_type": "code",
   "execution_count": 3,
   "id": "96c7c2e6",
   "metadata": {},
   "outputs": [],
   "source": [
    "relationship = pd.read_csv('catchment_relationship.csv',dtype=str)\n",
    "st1=set(relationship.station_id)\n",
    "st2=set(relationship.upstream_id)\n",
    "stationid=st1.union(st2)"
   ]
  },
  {
   "cell_type": "code",
   "execution_count": 4,
   "id": "1f3cc555",
   "metadata": {},
   "outputs": [
    {
     "data": {
      "text/html": [
       "<div>\n",
       "<style scoped>\n",
       "    .dataframe tbody tr th:only-of-type {\n",
       "        vertical-align: middle;\n",
       "    }\n",
       "\n",
       "    .dataframe tbody tr th {\n",
       "        vertical-align: top;\n",
       "    }\n",
       "\n",
       "    .dataframe thead th {\n",
       "        text-align: right;\n",
       "    }\n",
       "</style>\n",
       "<table border=\"1\" class=\"dataframe\">\n",
       "  <thead>\n",
       "    <tr style=\"text-align: right;\">\n",
       "      <th></th>\n",
       "      <th>station_id</th>\n",
       "      <th>upstream_id</th>\n",
       "    </tr>\n",
       "  </thead>\n",
       "  <tbody>\n",
       "    <tr>\n",
       "      <th>0</th>\n",
       "      <td>625</td>\n",
       "      <td>624</td>\n",
       "    </tr>\n",
       "    <tr>\n",
       "      <th>1</th>\n",
       "      <td>570</td>\n",
       "      <td>569</td>\n",
       "    </tr>\n",
       "    <tr>\n",
       "      <th>2</th>\n",
       "      <td>627</td>\n",
       "      <td>626</td>\n",
       "    </tr>\n",
       "    <tr>\n",
       "      <th>3</th>\n",
       "      <td>628</td>\n",
       "      <td>625</td>\n",
       "    </tr>\n",
       "    <tr>\n",
       "      <th>4</th>\n",
       "      <td>628</td>\n",
       "      <td>627</td>\n",
       "    </tr>\n",
       "    <tr>\n",
       "      <th>...</th>\n",
       "      <td>...</td>\n",
       "      <td>...</td>\n",
       "    </tr>\n",
       "    <tr>\n",
       "      <th>93</th>\n",
       "      <td>575</td>\n",
       "      <td>659</td>\n",
       "    </tr>\n",
       "    <tr>\n",
       "      <th>94</th>\n",
       "      <td>660</td>\n",
       "      <td>575</td>\n",
       "    </tr>\n",
       "    <tr>\n",
       "      <th>95</th>\n",
       "      <td>649</td>\n",
       "      <td>648</td>\n",
       "    </tr>\n",
       "    <tr>\n",
       "      <th>96</th>\n",
       "      <td>579</td>\n",
       "      <td>671</td>\n",
       "    </tr>\n",
       "    <tr>\n",
       "      <th>97</th>\n",
       "      <td>673</td>\n",
       "      <td>579</td>\n",
       "    </tr>\n",
       "  </tbody>\n",
       "</table>\n",
       "<p>98 rows × 2 columns</p>\n",
       "</div>"
      ],
      "text/plain": [
       "   station_id upstream_id\n",
       "0         625         624\n",
       "1         570         569\n",
       "2         627         626\n",
       "3         628         625\n",
       "4         628         627\n",
       "..        ...         ...\n",
       "93        575         659\n",
       "94        660         575\n",
       "95        649         648\n",
       "96        579         671\n",
       "97        673         579\n",
       "\n",
       "[98 rows x 2 columns]"
      ]
     },
     "execution_count": 4,
     "metadata": {},
     "output_type": "execute_result"
    }
   ],
   "source": [
    "relationship"
   ]
  },
  {
   "cell_type": "code",
   "execution_count": 5,
   "id": "b55770ba",
   "metadata": {},
   "outputs": [],
   "source": [
    "edgelist = []\n",
    "for i in range(len(relationship)):\n",
    "    edgs=[relationship.station_id[i],relationship.upstream_id[i]]\n",
    "    edges=tuple(edgs)\n",
    "    edgelist.append(edges)"
   ]
  },
  {
   "cell_type": "code",
   "execution_count": null,
   "id": "e74fc28d",
   "metadata": {},
   "outputs": [],
   "source": [
    "edgelist"
   ]
  },
  {
   "cell_type": "markdown",
   "id": "6a0a259f",
   "metadata": {},
   "source": [
    "### build graph"
   ]
  },
  {
   "cell_type": "code",
   "execution_count": 7,
   "id": "8fc59a1d",
   "metadata": {},
   "outputs": [],
   "source": [
    "import networkx as nx\n",
    "G = nx.Graph()\n",
    "G.add_nodes_from(stationid)\n",
    "G.add_edges_from(edgelist)"
   ]
  },
  {
   "cell_type": "code",
   "execution_count": 8,
   "id": "9aca5cd6",
   "metadata": {},
   "outputs": [],
   "source": [
    "connectedcom=[]\n",
    "\n",
    "for g in nx.connected_components(G):\n",
    "    nodes=g\n",
    "    nodelist=[]\n",
    "    for node in nodes:\n",
    "        nodelist.append(node)\n",
    "    connectedcom.append(nodelist)"
   ]
  },
  {
   "cell_type": "code",
   "execution_count": null,
   "id": "33c86371",
   "metadata": {},
   "outputs": [],
   "source": [
    "connectedcom"
   ]
  },
  {
   "cell_type": "markdown",
   "id": "fddb972d",
   "metadata": {},
   "source": [
    "### set 5 data"
   ]
  },
  {
   "cell_type": "code",
   "execution_count": 19,
   "id": "6944f76f",
   "metadata": {},
   "outputs": [],
   "source": [
    "df_648 = pd.read_csv('Iowa_small/data_time_series/648_data.csv')\n",
    "df_649 = pd.read_csv('Iowa_small/data_time_series/649_data.csv')"
   ]
  },
  {
   "cell_type": "code",
   "execution_count": null,
   "id": "689323fb",
   "metadata": {},
   "outputs": [],
   "source": [
    "#set 5\n",
    "x=range(len(df_648.discharge))\n",
    "plt.plot(x,df_649.discharge,label='649')\n",
    "plt.plot(x,df_648.discharge,label='648')\n",
    "plt.legend()"
   ]
  },
  {
   "cell_type": "markdown",
   "id": "6858fb14",
   "metadata": {},
   "source": [
    "### set 10"
   ]
  },
  {
   "cell_type": "code",
   "execution_count": 54,
   "id": "e8dbede7",
   "metadata": {},
   "outputs": [],
   "source": [
    "#set 10: ['654', '653']\n",
    "df_654 = pd.read_csv('Iowa_small/data_time_series/654_data.csv')\n",
    "df_653 = pd.read_csv('Iowa_small/data_time_series/653_data.csv')"
   ]
  },
  {
   "cell_type": "code",
   "execution_count": null,
   "id": "c62b3e8a",
   "metadata": {},
   "outputs": [],
   "source": [
    "x=range(len(df_654.discharge))\n",
    "plt.plot(x,df_654.discharge,label='654')\n",
    "plt.plot(x,df_653.discharge,label='653')\n",
    "plt.legend()"
   ]
  },
  {
   "cell_type": "code",
   "execution_count": null,
   "id": "c6bb61be",
   "metadata": {},
   "outputs": [],
   "source": [
    "df_654.datetime[39000:45000]"
   ]
  },
  {
   "cell_type": "code",
   "execution_count": 53,
   "id": "82e1a0c2",
   "metadata": {},
   "outputs": [
    {
     "data": {
      "text/html": [
       "<div>\n",
       "<style scoped>\n",
       "    .dataframe tbody tr th:only-of-type {\n",
       "        vertical-align: middle;\n",
       "    }\n",
       "\n",
       "    .dataframe tbody tr th {\n",
       "        vertical-align: top;\n",
       "    }\n",
       "\n",
       "    .dataframe thead th {\n",
       "        text-align: right;\n",
       "    }\n",
       "</style>\n",
       "<table border=\"1\" class=\"dataframe\">\n",
       "  <thead>\n",
       "    <tr style=\"text-align: right;\">\n",
       "      <th></th>\n",
       "      <th>datetime</th>\n",
       "      <th>precipitation</th>\n",
       "      <th>et</th>\n",
       "      <th>discharge</th>\n",
       "      <th>travel_time</th>\n",
       "      <th>area</th>\n",
       "      <th>slope</th>\n",
       "      <th>loam</th>\n",
       "      <th>silt</th>\n",
       "      <th>sandy_clay_loam</th>\n",
       "      <th>silty_clay_loam</th>\n",
       "    </tr>\n",
       "  </thead>\n",
       "  <tbody>\n",
       "    <tr>\n",
       "      <th>14529</th>\n",
       "      <td>2013-05-28 09:00:00</td>\n",
       "      <td>0.020600</td>\n",
       "      <td>48</td>\n",
       "      <td>19375.0</td>\n",
       "      <td>53.0</td>\n",
       "      <td>2301.0</td>\n",
       "      <td>0.00165</td>\n",
       "      <td>0.009351</td>\n",
       "      <td>0.099034</td>\n",
       "      <td>0.016361</td>\n",
       "      <td>0.875255</td>\n",
       "    </tr>\n",
       "    <tr>\n",
       "      <th>14531</th>\n",
       "      <td>2013-05-28 11:00:00</td>\n",
       "      <td>0.000000</td>\n",
       "      <td>48</td>\n",
       "      <td>19300.0</td>\n",
       "      <td>53.0</td>\n",
       "      <td>2301.0</td>\n",
       "      <td>0.00165</td>\n",
       "      <td>0.009351</td>\n",
       "      <td>0.099034</td>\n",
       "      <td>0.016361</td>\n",
       "      <td>0.875255</td>\n",
       "    </tr>\n",
       "    <tr>\n",
       "      <th>14528</th>\n",
       "      <td>2013-05-28 08:00:00</td>\n",
       "      <td>0.010657</td>\n",
       "      <td>48</td>\n",
       "      <td>18850.0</td>\n",
       "      <td>53.0</td>\n",
       "      <td>2301.0</td>\n",
       "      <td>0.00165</td>\n",
       "      <td>0.009351</td>\n",
       "      <td>0.099034</td>\n",
       "      <td>0.016361</td>\n",
       "      <td>0.875255</td>\n",
       "    </tr>\n",
       "    <tr>\n",
       "      <th>14532</th>\n",
       "      <td>2013-05-28 12:00:00</td>\n",
       "      <td>0.000000</td>\n",
       "      <td>48</td>\n",
       "      <td>18775.0</td>\n",
       "      <td>53.0</td>\n",
       "      <td>2301.0</td>\n",
       "      <td>0.00165</td>\n",
       "      <td>0.009351</td>\n",
       "      <td>0.099034</td>\n",
       "      <td>0.016361</td>\n",
       "      <td>0.875255</td>\n",
       "    </tr>\n",
       "    <tr>\n",
       "      <th>14533</th>\n",
       "      <td>2013-05-28 13:00:00</td>\n",
       "      <td>0.000000</td>\n",
       "      <td>48</td>\n",
       "      <td>17850.0</td>\n",
       "      <td>53.0</td>\n",
       "      <td>2301.0</td>\n",
       "      <td>0.00165</td>\n",
       "      <td>0.009351</td>\n",
       "      <td>0.099034</td>\n",
       "      <td>0.016361</td>\n",
       "      <td>0.875255</td>\n",
       "    </tr>\n",
       "    <tr>\n",
       "      <th>14527</th>\n",
       "      <td>2013-05-28 07:00:00</td>\n",
       "      <td>0.006257</td>\n",
       "      <td>48</td>\n",
       "      <td>17425.0</td>\n",
       "      <td>53.0</td>\n",
       "      <td>2301.0</td>\n",
       "      <td>0.00165</td>\n",
       "      <td>0.009351</td>\n",
       "      <td>0.099034</td>\n",
       "      <td>0.016361</td>\n",
       "      <td>0.875255</td>\n",
       "    </tr>\n",
       "    <tr>\n",
       "      <th>14534</th>\n",
       "      <td>2013-05-28 14:00:00</td>\n",
       "      <td>0.001353</td>\n",
       "      <td>48</td>\n",
       "      <td>17250.0</td>\n",
       "      <td>53.0</td>\n",
       "      <td>2301.0</td>\n",
       "      <td>0.00165</td>\n",
       "      <td>0.009351</td>\n",
       "      <td>0.099034</td>\n",
       "      <td>0.016361</td>\n",
       "      <td>0.875255</td>\n",
       "    </tr>\n",
       "    <tr>\n",
       "      <th>14526</th>\n",
       "      <td>2013-05-28 06:00:00</td>\n",
       "      <td>0.000000</td>\n",
       "      <td>48</td>\n",
       "      <td>16525.0</td>\n",
       "      <td>53.0</td>\n",
       "      <td>2301.0</td>\n",
       "      <td>0.00165</td>\n",
       "      <td>0.009351</td>\n",
       "      <td>0.099034</td>\n",
       "      <td>0.016361</td>\n",
       "      <td>0.875255</td>\n",
       "    </tr>\n",
       "    <tr>\n",
       "      <th>14535</th>\n",
       "      <td>2013-05-28 15:00:00</td>\n",
       "      <td>0.035602</td>\n",
       "      <td>48</td>\n",
       "      <td>16475.0</td>\n",
       "      <td>53.0</td>\n",
       "      <td>2301.0</td>\n",
       "      <td>0.00165</td>\n",
       "      <td>0.009351</td>\n",
       "      <td>0.099034</td>\n",
       "      <td>0.016361</td>\n",
       "      <td>0.875255</td>\n",
       "    </tr>\n",
       "    <tr>\n",
       "      <th>61168</th>\n",
       "      <td>2018-09-22 16:00:00</td>\n",
       "      <td>0.000000</td>\n",
       "      <td>52</td>\n",
       "      <td>16400.0</td>\n",
       "      <td>53.0</td>\n",
       "      <td>2301.0</td>\n",
       "      <td>0.00165</td>\n",
       "      <td>0.009351</td>\n",
       "      <td>0.099034</td>\n",
       "      <td>0.016361</td>\n",
       "      <td>0.875255</td>\n",
       "    </tr>\n",
       "    <tr>\n",
       "      <th>61169</th>\n",
       "      <td>2018-09-22 17:00:00</td>\n",
       "      <td>0.000000</td>\n",
       "      <td>52</td>\n",
       "      <td>16400.0</td>\n",
       "      <td>53.0</td>\n",
       "      <td>2301.0</td>\n",
       "      <td>0.00165</td>\n",
       "      <td>0.009351</td>\n",
       "      <td>0.099034</td>\n",
       "      <td>0.016361</td>\n",
       "      <td>0.875255</td>\n",
       "    </tr>\n",
       "    <tr>\n",
       "      <th>61170</th>\n",
       "      <td>2018-09-22 18:00:00</td>\n",
       "      <td>0.000000</td>\n",
       "      <td>52</td>\n",
       "      <td>16400.0</td>\n",
       "      <td>53.0</td>\n",
       "      <td>2301.0</td>\n",
       "      <td>0.00165</td>\n",
       "      <td>0.009351</td>\n",
       "      <td>0.099034</td>\n",
       "      <td>0.016361</td>\n",
       "      <td>0.875255</td>\n",
       "    </tr>\n",
       "    <tr>\n",
       "      <th>61167</th>\n",
       "      <td>2018-09-22 15:00:00</td>\n",
       "      <td>0.000000</td>\n",
       "      <td>52</td>\n",
       "      <td>16275.0</td>\n",
       "      <td>53.0</td>\n",
       "      <td>2301.0</td>\n",
       "      <td>0.00165</td>\n",
       "      <td>0.009351</td>\n",
       "      <td>0.099034</td>\n",
       "      <td>0.016361</td>\n",
       "      <td>0.875255</td>\n",
       "    </tr>\n",
       "    <tr>\n",
       "      <th>61171</th>\n",
       "      <td>2018-09-22 19:00:00</td>\n",
       "      <td>0.000000</td>\n",
       "      <td>52</td>\n",
       "      <td>16275.0</td>\n",
       "      <td>53.0</td>\n",
       "      <td>2301.0</td>\n",
       "      <td>0.00165</td>\n",
       "      <td>0.009351</td>\n",
       "      <td>0.099034</td>\n",
       "      <td>0.016361</td>\n",
       "      <td>0.875255</td>\n",
       "    </tr>\n",
       "    <tr>\n",
       "      <th>61172</th>\n",
       "      <td>2018-09-22 20:00:00</td>\n",
       "      <td>0.000000</td>\n",
       "      <td>52</td>\n",
       "      <td>16125.0</td>\n",
       "      <td>53.0</td>\n",
       "      <td>2301.0</td>\n",
       "      <td>0.00165</td>\n",
       "      <td>0.009351</td>\n",
       "      <td>0.099034</td>\n",
       "      <td>0.016361</td>\n",
       "      <td>0.875255</td>\n",
       "    </tr>\n",
       "    <tr>\n",
       "      <th>61166</th>\n",
       "      <td>2018-09-22 14:00:00</td>\n",
       "      <td>0.000000</td>\n",
       "      <td>52</td>\n",
       "      <td>16100.0</td>\n",
       "      <td>53.0</td>\n",
       "      <td>2301.0</td>\n",
       "      <td>0.00165</td>\n",
       "      <td>0.009351</td>\n",
       "      <td>0.099034</td>\n",
       "      <td>0.016361</td>\n",
       "      <td>0.875255</td>\n",
       "    </tr>\n",
       "    <tr>\n",
       "      <th>61173</th>\n",
       "      <td>2018-09-22 21:00:00</td>\n",
       "      <td>0.000000</td>\n",
       "      <td>52</td>\n",
       "      <td>15975.0</td>\n",
       "      <td>53.0</td>\n",
       "      <td>2301.0</td>\n",
       "      <td>0.00165</td>\n",
       "      <td>0.009351</td>\n",
       "      <td>0.099034</td>\n",
       "      <td>0.016361</td>\n",
       "      <td>0.875255</td>\n",
       "    </tr>\n",
       "    <tr>\n",
       "      <th>61165</th>\n",
       "      <td>2018-09-22 13:00:00</td>\n",
       "      <td>0.000000</td>\n",
       "      <td>52</td>\n",
       "      <td>15875.0</td>\n",
       "      <td>53.0</td>\n",
       "      <td>2301.0</td>\n",
       "      <td>0.00165</td>\n",
       "      <td>0.009351</td>\n",
       "      <td>0.099034</td>\n",
       "      <td>0.016361</td>\n",
       "      <td>0.875255</td>\n",
       "    </tr>\n",
       "    <tr>\n",
       "      <th>61174</th>\n",
       "      <td>2018-09-22 22:00:00</td>\n",
       "      <td>0.000000</td>\n",
       "      <td>52</td>\n",
       "      <td>15725.0</td>\n",
       "      <td>53.0</td>\n",
       "      <td>2301.0</td>\n",
       "      <td>0.00165</td>\n",
       "      <td>0.009351</td>\n",
       "      <td>0.099034</td>\n",
       "      <td>0.016361</td>\n",
       "      <td>0.875255</td>\n",
       "    </tr>\n",
       "  </tbody>\n",
       "</table>\n",
       "</div>"
      ],
      "text/plain": [
       "                  datetime  precipitation  et  discharge  travel_time    area  \\\n",
       "14529  2013-05-28 09:00:00       0.020600  48    19375.0         53.0  2301.0   \n",
       "14531  2013-05-28 11:00:00       0.000000  48    19300.0         53.0  2301.0   \n",
       "14528  2013-05-28 08:00:00       0.010657  48    18850.0         53.0  2301.0   \n",
       "14532  2013-05-28 12:00:00       0.000000  48    18775.0         53.0  2301.0   \n",
       "14533  2013-05-28 13:00:00       0.000000  48    17850.0         53.0  2301.0   \n",
       "14527  2013-05-28 07:00:00       0.006257  48    17425.0         53.0  2301.0   \n",
       "14534  2013-05-28 14:00:00       0.001353  48    17250.0         53.0  2301.0   \n",
       "14526  2013-05-28 06:00:00       0.000000  48    16525.0         53.0  2301.0   \n",
       "14535  2013-05-28 15:00:00       0.035602  48    16475.0         53.0  2301.0   \n",
       "61168  2018-09-22 16:00:00       0.000000  52    16400.0         53.0  2301.0   \n",
       "61169  2018-09-22 17:00:00       0.000000  52    16400.0         53.0  2301.0   \n",
       "61170  2018-09-22 18:00:00       0.000000  52    16400.0         53.0  2301.0   \n",
       "61167  2018-09-22 15:00:00       0.000000  52    16275.0         53.0  2301.0   \n",
       "61171  2018-09-22 19:00:00       0.000000  52    16275.0         53.0  2301.0   \n",
       "61172  2018-09-22 20:00:00       0.000000  52    16125.0         53.0  2301.0   \n",
       "61166  2018-09-22 14:00:00       0.000000  52    16100.0         53.0  2301.0   \n",
       "61173  2018-09-22 21:00:00       0.000000  52    15975.0         53.0  2301.0   \n",
       "61165  2018-09-22 13:00:00       0.000000  52    15875.0         53.0  2301.0   \n",
       "61174  2018-09-22 22:00:00       0.000000  52    15725.0         53.0  2301.0   \n",
       "\n",
       "         slope      loam      silt  sandy_clay_loam  silty_clay_loam  \n",
       "14529  0.00165  0.009351  0.099034         0.016361         0.875255  \n",
       "14531  0.00165  0.009351  0.099034         0.016361         0.875255  \n",
       "14528  0.00165  0.009351  0.099034         0.016361         0.875255  \n",
       "14532  0.00165  0.009351  0.099034         0.016361         0.875255  \n",
       "14533  0.00165  0.009351  0.099034         0.016361         0.875255  \n",
       "14527  0.00165  0.009351  0.099034         0.016361         0.875255  \n",
       "14534  0.00165  0.009351  0.099034         0.016361         0.875255  \n",
       "14526  0.00165  0.009351  0.099034         0.016361         0.875255  \n",
       "14535  0.00165  0.009351  0.099034         0.016361         0.875255  \n",
       "61168  0.00165  0.009351  0.099034         0.016361         0.875255  \n",
       "61169  0.00165  0.009351  0.099034         0.016361         0.875255  \n",
       "61170  0.00165  0.009351  0.099034         0.016361         0.875255  \n",
       "61167  0.00165  0.009351  0.099034         0.016361         0.875255  \n",
       "61171  0.00165  0.009351  0.099034         0.016361         0.875255  \n",
       "61172  0.00165  0.009351  0.099034         0.016361         0.875255  \n",
       "61166  0.00165  0.009351  0.099034         0.016361         0.875255  \n",
       "61173  0.00165  0.009351  0.099034         0.016361         0.875255  \n",
       "61165  0.00165  0.009351  0.099034         0.016361         0.875255  \n",
       "61174  0.00165  0.009351  0.099034         0.016361         0.875255  "
      ]
     },
     "execution_count": 53,
     "metadata": {},
     "output_type": "execute_result"
    }
   ],
   "source": [
    "#df_654.datetime[58000:]\n",
    "df_654.sort_values(by='discharge', inplace=True, ascending=False)\n",
    "df_654[1:20]"
   ]
  },
  {
   "cell_type": "markdown",
   "id": "0e2d07c0",
   "metadata": {},
   "source": [
    "### set 8"
   ]
  },
  {
   "cell_type": "code",
   "execution_count": 21,
   "id": "2c4ddfec",
   "metadata": {},
   "outputs": [],
   "source": [
    "df_557 = pd.read_csv('Iowa_small/data_time_series/557_data.csv')\n",
    "df_622 = pd.read_csv('Iowa_small/data_time_series/622_data.csv')\n",
    "df_556 = pd.read_csv('Iowa_small/data_time_series/556_data.csv')"
   ]
  },
  {
   "cell_type": "code",
   "execution_count": null,
   "id": "2ddf23d3",
   "metadata": {},
   "outputs": [],
   "source": [
    "#set 8\n",
    "x=range(len(df_557.discharge))\n",
    "plt.plot(x,df_622.discharge,label='622')\n",
    "plt.plot(x,df_556.discharge,label='556')\n",
    "plt.plot(x,df_557.discharge,label='557')\n",
    "plt.legend()"
   ]
  },
  {
   "cell_type": "code",
   "execution_count": 25,
   "id": "f3cefcd8",
   "metadata": {},
   "outputs": [],
   "source": [
    "#set 1: '519', '586', '585'\n",
    "df_519 = pd.read_csv('Iowa_small/data_time_series/519_data.csv')\n",
    "df_585 = pd.read_csv('Iowa_small/data_time_series/585_data.csv')\n",
    "df_586 = pd.read_csv('Iowa_small/data_time_series/586_data.csv')"
   ]
  },
  {
   "cell_type": "code",
   "execution_count": null,
   "id": "e3ba3fa8",
   "metadata": {},
   "outputs": [],
   "source": [
    "x=range(len(df_519.discharge))\n",
    "plt.plot(x,df_586.discharge,label='586')\n",
    "plt.plot(x,df_585.discharge,label='585')\n",
    "plt.plot(x,df_519.discharge,label='519')\n",
    "plt.legend()"
   ]
  },
  {
   "cell_type": "markdown",
   "id": "5114ce0e",
   "metadata": {},
   "source": [
    "### set 9"
   ]
  },
  {
   "cell_type": "code",
   "execution_count": 28,
   "id": "316bb3eb",
   "metadata": {},
   "outputs": [],
   "source": [
    "#set 9: ['590', '591', '526']\n",
    "df_591 = pd.read_csv('Iowa_small/data_time_series/591_data.csv')\n",
    "df_590 = pd.read_csv('Iowa_small/data_time_series/590_data.csv')\n",
    "df_526 = pd.read_csv('Iowa_small/data_time_series/526_data.csv')"
   ]
  },
  {
   "cell_type": "code",
   "execution_count": null,
   "id": "417f5871",
   "metadata": {},
   "outputs": [],
   "source": [
    "x=range(len(df_591.discharge))\n",
    "plt.plot(x,df_591.discharge,label='591')\n",
    "plt.plot(x,df_590.discharge,label='590')\n",
    "plt.plot(x,df_526.discharge,label='526')\n",
    "plt.legend()"
   ]
  },
  {
   "cell_type": "code",
   "execution_count": null,
   "id": "afebebb5",
   "metadata": {},
   "outputs": [],
   "source": [
    "df_591.datetime[52000:]"
   ]
  },
  {
   "cell_type": "markdown",
   "id": "fe6b8bd1",
   "metadata": {},
   "source": [
    "### set 13"
   ]
  },
  {
   "cell_type": "code",
   "execution_count": 30,
   "id": "040e8203",
   "metadata": {},
   "outputs": [],
   "source": [
    "#set 13: '659', '660', '575'\n",
    "df_660 = pd.read_csv('Iowa_small/data_time_series/660_data.csv')\n",
    "df_575 = pd.read_csv('Iowa_small/data_time_series/575_data.csv')\n",
    "df_659 = pd.read_csv('Iowa_small/data_time_series/659_data.csv')"
   ]
  },
  {
   "cell_type": "code",
   "execution_count": null,
   "id": "a69bf566",
   "metadata": {},
   "outputs": [],
   "source": [
    "x=range(len(df_660.discharge))\n",
    "plt.plot(x,df_660.discharge,label='660')\n",
    "plt.plot(x,df_575.discharge,label='575')\n",
    "plt.plot(x,df_659.discharge,label='659')\n",
    "plt.legend()"
   ]
  },
  {
   "cell_type": "markdown",
   "id": "e7ad202e",
   "metadata": {},
   "source": [
    "### Set 14"
   ]
  },
  {
   "cell_type": "code",
   "execution_count": 32,
   "id": "c9f39ac0",
   "metadata": {},
   "outputs": [],
   "source": [
    "#set 14: '673', '579', '671'\n",
    "df_673 = pd.read_csv('Iowa_small/data_time_series/673_data.csv')\n",
    "df_579 = pd.read_csv('Iowa_small/data_time_series/579_data.csv')\n",
    "df_671 = pd.read_csv('Iowa_small/data_time_series/671_data.csv')"
   ]
  },
  {
   "cell_type": "code",
   "execution_count": null,
   "id": "2242a12e",
   "metadata": {},
   "outputs": [],
   "source": [
    "x=range(len(df_673.discharge))\n",
    "plt.plot(x,df_673.discharge,label='663')\n",
    "plt.plot(x,df_579.discharge,label='579')\n",
    "plt.plot(x,df_671.discharge,label='671')\n",
    "plt.legend()"
   ]
  },
  {
   "cell_type": "markdown",
   "id": "8398481c",
   "metadata": {},
   "source": [
    "### Set 15"
   ]
  },
  {
   "cell_type": "code",
   "execution_count": 35,
   "id": "f3b880ea",
   "metadata": {},
   "outputs": [],
   "source": [
    "#set 15: '656', '658', '657'\n",
    "df_658 = pd.read_csv('Iowa_small/data_time_series/658_data.csv')\n",
    "df_657 = pd.read_csv('Iowa_small/data_time_series/657_data.csv')\n",
    "df_656 = pd.read_csv('Iowa_small/data_time_series/656_data.csv')"
   ]
  },
  {
   "cell_type": "code",
   "execution_count": null,
   "id": "671bf343",
   "metadata": {},
   "outputs": [],
   "source": [
    "x=range(len(df_658.discharge))\n",
    "plt.plot(x,df_658.discharge,label='658')\n",
    "plt.plot(x,df_657.discharge,label='657')\n",
    "plt.plot(x,df_656.discharge,label='656')\n",
    "plt.legend()"
   ]
  },
  {
   "cell_type": "code",
   "execution_count": null,
   "id": "dfa9b2a8",
   "metadata": {},
   "outputs": [],
   "source": [
    "df_658.datetime[48000:]"
   ]
  },
  {
   "cell_type": "markdown",
   "id": "78013a9c",
   "metadata": {},
   "source": [
    "### # of CC"
   ]
  },
  {
   "cell_type": "code",
   "execution_count": 38,
   "id": "de09a625",
   "metadata": {},
   "outputs": [
    {
     "data": {
      "text/plain": [
       "15"
      ]
     },
     "execution_count": 38,
     "metadata": {},
     "output_type": "execute_result"
    }
   ],
   "source": [
    "len(connectedcom)"
   ]
  },
  {
   "cell_type": "code",
   "execution_count": null,
   "id": "531a21d2",
   "metadata": {},
   "outputs": [],
   "source": [
    "# csv\n",
    "path =\"Iowa_small/data_time_series\"\n",
    "outputpath =\"Iowa_small/time_series\"\n",
    "j=0\n",
    "for cc in connectedcom:\n",
    "    j=j+1\n",
    "    print('processing set'+str(j))\n",
    "    for station in cc:\n",
    "        print('processiong station:'+station)\n",
    "        filename=path+'/'+station+'_data.csv'\n",
    "        #print('filename:'+filename)\n",
    "        X = pd.read_csv(filename)\n",
    "        X['stationid']=station\n",
    "        for i in range(len(X)):#len(X)):\n",
    "            newfilename=X.datetime[i]\n",
    "            filepath=outputpath+'/'+'set'+str(j)+'/'+newfilename+'.csv'\n",
    "            if os.path.exists(filepath):\n",
    "                X.loc[:,'precipitation':'stationid'].loc[[i],:].to_csv(filepath,mode='a', header=False, index=False)\n",
    "                #X.loc[[i],:].to_csv(filepath,mode='a', header=False, index=False)\n",
    "            else:\n",
    "                X.loc[:,'precipitation':'stationid'].loc[[i],:].to_csv(filepath, index=False)"
   ]
  },
  {
   "cell_type": "code",
   "execution_count": null,
   "id": "81f13f9e",
   "metadata": {
    "scrolled": true
   },
   "outputs": [],
   "source": [
    "df_658.datetime[48000:]"
   ]
  },
  {
   "cell_type": "code",
   "execution_count": null,
   "id": "8e2d24d1",
   "metadata": {},
   "outputs": [],
   "source": []
  },
  {
   "cell_type": "code",
   "execution_count": null,
   "id": "f137b1dd",
   "metadata": {},
   "outputs": [],
   "source": [
    "path='Iowa_small/set5'\n",
    "files = [f for f in os.listdir(path) if f.endswith('.csv')]\n",
    "#files = os.listdir(outputpath)\n",
    "completefiles=[]\n",
    "for file in files:\n",
    "    X = pd.read_csv(path+'/'+file)\n",
    "    num=0\n",
    "    for i in range(len(X)):\n",
    "        if(X.iloc[i,2]<=0):\n",
    "            num=num+1\n",
    "    if (num==0):\n",
    "        completefiles.append(file)\n",
    "        print(file)"
   ]
  },
  {
   "cell_type": "code",
   "execution_count": 68,
   "id": "753a9a4c",
   "metadata": {},
   "outputs": [],
   "source": [
    "output = open('Iowa_small/set5/data.txt','w',encoding='gbk')\n",
    "output.write('completedata\\n')\n",
    "for row in completefiles:\n",
    "    output.write(row)\n",
    "    output.write('\\n')\n",
    "output.close()"
   ]
  },
  {
   "cell_type": "code",
   "execution_count": null,
   "id": "1db59c1d",
   "metadata": {},
   "outputs": [],
   "source": [
    "len(completefiles)"
   ]
  },
  {
   "cell_type": "code",
   "execution_count": null,
   "id": "d3e97dd6",
   "metadata": {},
   "outputs": [],
   "source": [
    "path='Iowa_small/set9'\n",
    "files = [f for f in os.listdir(path) if f.endswith('.csv')]\n",
    "#files = os.listdir(outputpath)\n",
    "completefiles=[]\n",
    "for file in files:\n",
    "    X = pd.read_csv(path+'/'+file)\n",
    "    num=0\n",
    "    for i in range(len(X)):\n",
    "        if(X.iloc[i,2]<=0):\n",
    "            num=num+1\n",
    "    if (num==0):\n",
    "        completefiles.append(file)\n",
    "        print(file)"
   ]
  },
  {
   "cell_type": "code",
   "execution_count": null,
   "id": "45c43689",
   "metadata": {},
   "outputs": [],
   "source": [
    "len(completefiles)"
   ]
  },
  {
   "cell_type": "code",
   "execution_count": 72,
   "id": "a960947d",
   "metadata": {},
   "outputs": [],
   "source": [
    "output = open('Iowa_small/set9/data.txt','w',encoding='gbk')\n",
    "output.write('completedata\\n')\n",
    "for row in completefiles:\n",
    "    output.write(row)\n",
    "    output.write('\\n')\n",
    "output.close()"
   ]
  },
  {
   "cell_type": "code",
   "execution_count": null,
   "id": "75da6ba5",
   "metadata": {},
   "outputs": [],
   "source": [
    "path='Iowa_small/set10'\n",
    "files = [f for f in os.listdir(path) if f.endswith('.csv')]\n",
    "#files = os.listdir(outputpath)\n",
    "completefiles=[]\n",
    "for file in files:\n",
    "    X = pd.read_csv(path+'/'+file)\n",
    "    num=0\n",
    "    for i in range(len(X)):\n",
    "        if(X.iloc[i,2]<=0):\n",
    "            num=num+1\n",
    "    if (num==0):\n",
    "        completefiles.append(file)\n",
    "        print(file)"
   ]
  },
  {
   "cell_type": "code",
   "execution_count": null,
   "id": "6b028637",
   "metadata": {},
   "outputs": [],
   "source": [
    "len(completefiles)"
   ]
  },
  {
   "cell_type": "code",
   "execution_count": 75,
   "id": "befda4b5",
   "metadata": {},
   "outputs": [],
   "source": [
    "output = open('Iowa_small/set10/data.txt','w',encoding='gbk')\n",
    "output.write('completedata\\n')\n",
    "for row in completefiles:\n",
    "    output.write(row)\n",
    "    output.write('\\n')\n",
    "output.close()"
   ]
  },
  {
   "cell_type": "markdown",
   "id": "83bf6b25",
   "metadata": {},
   "source": [
    "### Set 3(new)"
   ]
  },
  {
   "cell_type": "code",
   "execution_count": null,
   "id": "864e9f84",
   "metadata": {},
   "outputs": [],
   "source": [
    "connectedcom[2]"
   ]
  },
  {
   "cell_type": "code",
   "execution_count": null,
   "id": "fd0a6829",
   "metadata": {},
   "outputs": [],
   "source": [
    "'608' in connectedcom[2]"
   ]
  },
  {
   "cell_type": "code",
   "execution_count": null,
   "id": "ee34fa8a",
   "metadata": {},
   "outputs": [],
   "source": [
    "path='Iowa_small/data_time_series/'\n",
    "for stat in connectedcom[2]:\n",
    "    df=pd.read_csv(path+stat+'_data.csv')\n",
    "    x=range(len(df.discharge))\n",
    "    plt.plot(x,df.discharge,label=stat)\n",
    "plt.legend()"
   ]
  },
  {
   "cell_type": "markdown",
   "id": "f5c9f4d4",
   "metadata": {},
   "source": [
    "### Set3(new set 1)"
   ]
  },
  {
   "cell_type": "code",
   "execution_count": null,
   "id": "de85d108",
   "metadata": {},
   "outputs": [],
   "source": [
    "connectedcom[0]"
   ]
  },
  {
   "cell_type": "code",
   "execution_count": null,
   "id": "20505a7d",
   "metadata": {},
   "outputs": [],
   "source": [
    "'608' in connectedcom[0]"
   ]
  },
  {
   "cell_type": "code",
   "execution_count": null,
   "id": "fc68f046",
   "metadata": {},
   "outputs": [],
   "source": [
    "path='Iowa_small/data_time_series/'\n",
    "for stat in connectedcom[0]:\n",
    "    df=pd.read_csv(path+stat+'_data.csv')\n",
    "    x=range(len(df.discharge))\n",
    "    plt.plot(x,df.discharge,label=stat)\n",
    "plt.legend()"
   ]
  },
  {
   "cell_type": "code",
   "execution_count": null,
   "id": "eac5dda5",
   "metadata": {},
   "outputs": [],
   "source": []
  },
  {
   "cell_type": "code",
   "execution_count": null,
   "id": "677a53ed",
   "metadata": {},
   "outputs": [],
   "source": []
  },
  {
   "cell_type": "code",
   "execution_count": null,
   "id": "50d9a924",
   "metadata": {},
   "outputs": [],
   "source": []
  },
  {
   "cell_type": "code",
   "execution_count": 88,
   "id": "9beb973b",
   "metadata": {},
   "outputs": [],
   "source": [
    "# csv\n",
    "relapath =\"Iowa_small/set3/relationshipset3.csv\"\n",
    "#outputpath =\"Iowa_small/time_series\"\n",
    "set3rela=[]\n",
    "for i in range(len(relationship)):\n",
    "    if relationship.station_id[i] in connectedcom[2]:\n",
    "        if os.path.exists(relapath):\n",
    "            relationship.loc[[i],:].to_csv(relapath,mode='a', header=False, index=False)\n",
    "                #X.loc[[i],:].to_csv(filepath,mode='a', header=False, index=False)\n",
    "        else:\n",
    "            relationship.loc[[i],:].to_csv(relapath, index=False)"
   ]
  },
  {
   "cell_type": "code",
   "execution_count": null,
   "id": "f6626f2e",
   "metadata": {},
   "outputs": [],
   "source": [
    "path='Iowa_small/set3'\n",
    "files = [f for f in os.listdir(path) if f.endswith('.csv')]\n",
    "#files = os.listdir(outputpath)\n",
    "completefiles=[]\n",
    "for file in files:\n",
    "    X = pd.read_csv(path+'/'+file)\n",
    "    num=0\n",
    "    for i in range(len(X)):\n",
    "        if(X.iloc[i,2]<=0):\n",
    "            num=num+1\n",
    "    if (num==0):\n",
    "        completefiles.append(file)\n",
    "        print(file)"
   ]
  },
  {
   "cell_type": "code",
   "execution_count": null,
   "id": "b7a08ad7",
   "metadata": {},
   "outputs": [],
   "source": [
    "len(completefiles)"
   ]
  },
  {
   "cell_type": "code",
   "execution_count": 91,
   "id": "7ad27f49",
   "metadata": {},
   "outputs": [],
   "source": [
    "output = open('Iowa_small/set3/data.txt','w',encoding='gbk')\n",
    "output.write('completedata\\n')\n",
    "for row in completefiles:\n",
    "    output.write(row)\n",
    "    output.write('\\n')\n",
    "output.close()"
   ]
  },
  {
   "cell_type": "code",
   "execution_count": null,
   "id": "aa3ffe8a",
   "metadata": {},
   "outputs": [],
   "source": []
  },
  {
   "cell_type": "code",
   "execution_count": 10,
   "id": "742bb965",
   "metadata": {},
   "outputs": [],
   "source": [
    "# csv\n",
    "relapath =\"Iowa_small/discharge/relationshipset2.csv\"\n",
    "#outputpath =\"Iowa_small/time_series\"\n",
    "set2rela=[]\n",
    "for i in range(len(relationship)):\n",
    "    if relationship.station_id[i] in connectedcom[0]:\n",
    "        if os.path.exists(relapath):\n",
    "            relationship.loc[[i],:].to_csv(relapath,mode='a', header=False, index=False)\n",
    "                #X.loc[[i],:].to_csv(filepath,mode='a', header=False, index=False)\n",
    "        else:\n",
    "            relationship.loc[[i],:].to_csv(relapath, index=False)"
   ]
  },
  {
   "cell_type": "code",
   "execution_count": null,
   "id": "1762e53c",
   "metadata": {},
   "outputs": [],
   "source": []
  }
 ],
 "metadata": {
  "kernelspec": {
   "display_name": "waterpy39",
   "language": "python",
   "name": "waterpy39"
  },
  "language_info": {
   "codemirror_mode": {
    "name": "ipython",
    "version": 3
   },
   "file_extension": ".py",
   "mimetype": "text/x-python",
   "name": "python",
   "nbconvert_exporter": "python",
   "pygments_lexer": "ipython3",
   "version": "3.9.16"
  }
 },
 "nbformat": 4,
 "nbformat_minor": 5
}
