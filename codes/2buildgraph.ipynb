{
 "cells": [
  {
   "cell_type": "code",
   "execution_count": null,
   "id": "a0cb2118",
   "metadata": {},
   "outputs": [],
   "source": [
    "# preprocess data"
   ]
  },
  {
   "cell_type": "markdown",
   "id": "c5804655",
   "metadata": {},
   "source": [
    "Transform data in the format that each file contains all station's data at a specific timestamp."
   ]
  },
  {
   "cell_type": "code",
   "execution_count": null,
   "id": "89c0727d",
   "metadata": {},
   "outputs": [],
   "source": [
    "import json\n",
    "import csv\n",
    "import pandas as pd\n",
    "import os\n",
    "import numpy as np\n",
    "import matplotlib.pyplot as plt\n",
    "import seaborn as sns\n",
    "import math"
   ]
  },
  {
   "cell_type": "code",
   "execution_count": null,
   "id": "3b986e74",
   "metadata": {},
   "outputs": [],
   "source": [
    "relationship = pd.read_csv('catchment_relationship.csv',dtype=str)\n",
    "st1=set(relationship.station_id)\n",
    "st2=set(relationship.upstream_id)\n",
    "stationid=st1.union(st2)"
   ]
  },
  {
   "cell_type": "code",
   "execution_count": null,
   "id": "b95be917",
   "metadata": {},
   "outputs": [],
   "source": [
    "len(st1)"
   ]
  },
  {
   "cell_type": "code",
   "execution_count": null,
   "id": "0bf69499",
   "metadata": {},
   "outputs": [],
   "source": [
    "stationid"
   ]
  },
  {
   "cell_type": "code",
   "execution_count": null,
   "id": "9fb3e563",
   "metadata": {},
   "outputs": [],
   "source": [
    "path =\"Iowa_small/data_time_series\"  #文件夹路径\n",
    "outputpath =\"Iowa_small/time_series\" \n",
    "file_names = os.listdir(path)"
   ]
  },
  {
   "cell_type": "code",
   "execution_count": null,
   "id": "0049cf50",
   "metadata": {},
   "outputs": [],
   "source": [
    "for file_name in file_names:\n",
    "    name=file_name.split('.')[0]\n",
    "    stationnum=name.split('_')[0]\n",
    "    if (stationnum in stationid):\n",
    "        X = pd.read_csv(path+'/'+file_name)\n",
    "        X['stationid']=stationnum\n",
    "        for i in range(len(X)):#len(X)):\n",
    "            newfilename=X.datetime[i]\n",
    "            filepath=outputpath+'/'+newfilename+'.csv'\n",
    "            if os.path.exists(filepath):\n",
    "                X.loc[:,'precipitation':'stationid'].loc[[i],:].to_csv(filepath,mode='a', header=False, index=False)\n",
    "                #X.loc[[i],:].to_csv(filepath,mode='a', header=False, index=False)\n",
    "            else:\n",
    "                X.loc[:,'precipitation':'stationid'].loc[[i],:].to_csv(filepath, index=False)"
   ]
  },
  {
   "cell_type": "code",
   "execution_count": null,
   "id": "548566d4",
   "metadata": {},
   "outputs": [],
   "source": [
    "path =\"Iowa_small/data_time_series\" \n",
    "filename=\"519_data.csv\"\n",
    "X = pd.read_csv(path+'/'+filename)"
   ]
  },
  {
   "cell_type": "code",
   "execution_count": null,
   "id": "8b0073c4",
   "metadata": {},
   "outputs": [],
   "source": [
    "X.loc[:,'precipitation':'silty_clay_loam'].loc[[1],:]"
   ]
  },
  {
   "cell_type": "code",
   "execution_count": null,
   "id": "c1b1dc48",
   "metadata": {},
   "outputs": [],
   "source": [
    "name=filename.split('.')[0]\n",
    "stationnum=name.split('_')[0]\n",
    "stationnum in stationid"
   ]
  },
  {
   "cell_type": "code",
   "execution_count": null,
   "id": "def57ead",
   "metadata": {},
   "outputs": [],
   "source": [
    "X['stationid']=stationnum"
   ]
  },
  {
   "cell_type": "code",
   "execution_count": null,
   "id": "0ac88009",
   "metadata": {},
   "outputs": [],
   "source": [
    "X.loc[[1],:]"
   ]
  },
  {
   "cell_type": "code",
   "execution_count": null,
   "id": "e99bc2d2",
   "metadata": {},
   "outputs": [],
   "source": [
    "X.datetime[1]"
   ]
  },
  {
   "cell_type": "code",
   "execution_count": null,
   "id": "08b29080",
   "metadata": {},
   "outputs": [],
   "source": [
    "outputpath =\"Iowa_small/time_series\" \n",
    "for i in range(len(X)):\n",
    "    #print(i)\n",
    "    newfilename=X.datetime[i]\n",
    "    filepath=outputpath+'/'+newfilename+'.csv'\n",
    "    X.loc[[i],:].to_csv(filepath, index=False)"
   ]
  },
  {
   "cell_type": "code",
   "execution_count": null,
   "id": "1535d554",
   "metadata": {},
   "outputs": [],
   "source": [
    "filename=\"523_data.csv\"\n",
    "name=filename.split('.')[0]\n",
    "stationnum=name.split('_')[0]\n",
    "if (stationnum in stationid):\n",
    "    X = pd.read_csv(path+'/'+filename)\n",
    "    X['stationid']=stationnum\n",
    "    for i in range(2):#len(X)):\n",
    "        newfilename=X.datetime[i]\n",
    "        filepath=outputpath+'/'+newfilename+'.csv'\n",
    "        X.loc[[i],:].to_csv(filepath,mode='a', header=False, index=False)"
   ]
  },
  {
   "cell_type": "code",
   "execution_count": null,
   "id": "4f434686",
   "metadata": {},
   "outputs": [],
   "source": [
    "X=pd.read_csv('Iowa_small/time_series/2011-10-01 00:00:00.csv')"
   ]
  },
  {
   "cell_type": "code",
   "execution_count": null,
   "id": "eb9c61fc",
   "metadata": {},
   "outputs": [],
   "source": [
    "X.iloc[0,2]"
   ]
  },
  {
   "cell_type": "code",
   "execution_count": null,
   "id": "4c2cd6af",
   "metadata": {},
   "outputs": [],
   "source": [
    "num=0\n",
    "for i in range(len(X)):\n",
    "    if(X.iloc[i,2]<=0):\n",
    "        num=num+1"
   ]
  },
  {
   "cell_type": "code",
   "execution_count": null,
   "id": "4f8aac3d",
   "metadata": {},
   "outputs": [],
   "source": [
    "num"
   ]
  },
  {
   "cell_type": "code",
   "execution_count": null,
   "id": "be3b029d",
   "metadata": {},
   "outputs": [],
   "source": [
    "outputpath =\"Iowa_small/time_series\" \n",
    "files = [f for f in os.listdir(outputpath) if f.endswith('.csv')]\n",
    "#files = os.listdir(outputpath)\n",
    "completefiles=[]\n",
    "for file in files:\n",
    "    X = pd.read_csv(outputpath+'/'+file)\n",
    "    num=0\n",
    "    for i in range(len(X)):\n",
    "        if(X.iloc[i,2]<=0):\n",
    "            num=num+1\n",
    "    if (num==0):\n",
    "        completefiles.append(file)\n",
    "        print(file)\n",
    "\n",
    "    "
   ]
  },
  {
   "cell_type": "code",
   "execution_count": null,
   "id": "4073041e",
   "metadata": {},
   "outputs": [],
   "source": [
    "len(completefiles)"
   ]
  },
  {
   "cell_type": "markdown",
   "id": "91b18457",
   "metadata": {},
   "source": [
    "check and store timestamps that have complete data"
   ]
  },
  {
   "cell_type": "code",
   "execution_count": null,
   "id": "77731fb2",
   "metadata": {},
   "outputs": [],
   "source": [
    "output = open('data.txt','w',encoding='gbk')\n",
    "output.write('completedata\\n')\n",
    "for row in completefiles:\n",
    "    output.write(row)\n",
    "    output.write('\\n')\n",
    "output.close()\n"
   ]
  },
  {
   "cell_type": "code",
   "execution_count": null,
   "id": "545601eb",
   "metadata": {},
   "outputs": [],
   "source": [
    "files = [f for f in os.listdir(outputpath) if f.endswith('.csv')]\n",
    "#files = os.listdir(outputpath)\n",
    "ff=[]\n",
    "for file in files:\n",
    "    ff.append(file)\n",
    "    print(file)\n",
    "    print(len(ff))\n",
    "    X = pd.read_csv(outputpath+'/'+file)"
   ]
  },
  {
   "cell_type": "code",
   "execution_count": null,
   "id": "866bbbd7",
   "metadata": {},
   "outputs": [],
   "source": [
    "len(files)"
   ]
  },
  {
   "cell_type": "code",
   "execution_count": null,
   "id": "632bcefa",
   "metadata": {},
   "outputs": [],
   "source": [
    "files = [os.path.join(outputpath, f) for f in os.listdir(outputpath) if f.endswith('.csv')]"
   ]
  },
  {
   "cell_type": "code",
   "execution_count": null,
   "id": "7d9969ad",
   "metadata": {},
   "outputs": [],
   "source": [
    "files"
   ]
  },
  {
   "cell_type": "code",
   "execution_count": null,
   "id": "e1a366d9",
   "metadata": {},
   "outputs": [],
   "source": []
  }
 ],
 "metadata": {
  "kernelspec": {
   "display_name": "waterpy39",
   "language": "python",
   "name": "waterpy39"
  },
  "language_info": {
   "codemirror_mode": {
    "name": "ipython",
    "version": 3
   },
   "file_extension": ".py",
   "mimetype": "text/x-python",
   "name": "python",
   "nbconvert_exporter": "python",
   "pygments_lexer": "ipython3",
   "version": "3.9.16"
  }
 },
 "nbformat": 4,
 "nbformat_minor": 5
}
